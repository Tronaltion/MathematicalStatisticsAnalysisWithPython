{
 "cells": [
  {
   "cell_type": "markdown",
   "metadata": {},
   "source": [
    "#### 1. R的正交多项式回归"
   ]
  },
  {
   "cell_type": "code",
   "execution_count": 1,
   "metadata": {
    "ExecuteTime": {
     "end_time": "2023-08-21T12:38:19.573888100Z",
     "start_time": "2023-08-21T12:38:19.484607500Z"
    }
   },
   "outputs": [
    {
     "ename": "SyntaxError",
     "evalue": "invalid syntax. Perhaps you forgot a comma? (1622132883.py, line 4)",
     "output_type": "error",
     "traceback": [
      "\u001B[1;36m  Cell \u001B[1;32mIn[1], line 4\u001B[1;36m\u001B[0m\n\u001B[1;33m    lm.pol<-lm(y~1+poly(x,2))\u001B[0m\n\u001B[1;37m               ^\u001B[0m\n\u001B[1;31mSyntaxError\u001B[0m\u001B[1;31m:\u001B[0m invalid syntax. Perhaps you forgot a comma?\n"
     ]
    }
   ],
   "source": [
    "###R语言正交多项式回归\n",
    "x<-c(37.0, 37.5, 38.0, 38.5, 39.0, 39.5, 40.0, 40.5, 41.0, 41.5, 42.0, 42.5, 43.0)\n",
    "y<-c(3.40, 3.00, 3.00, 3.27, 2.10, 1.83, 1.53,  1.70, 1.80, 1.90, 2.35, 2.54, 2.90)\n",
    "lm.pol<-lm(y~1+poly(x,2))\n",
    "summary(lm.pol)"
   ]
  },
  {
   "cell_type": "code",
   "execution_count": null,
   "metadata": {
    "ExecuteTime": {
     "start_time": "2023-08-21T12:38:19.495185100Z"
    }
   },
   "outputs": [],
   "source": [
    "xfit<-seq(37,50,len=5)\n",
    "yfit<-predict(lm.pol,data.frame(x=xfit))\n",
    "print(xfit)\n",
    "print(yfit)"
   ]
  },
  {
   "cell_type": "markdown",
   "metadata": {},
   "source": [
    "#### 2. 内在非线性回归\n",
    "R语言做了很多工作，对非线性回归模型做了很大简化"
   ]
  },
  {
   "cell_type": "code",
   "execution_count": null,
   "metadata": {
    "ExecuteTime": {
     "start_time": "2023-08-21T12:38:19.498178Z"
    }
   },
   "outputs": [],
   "source": [
    "###内在非线性回归\n",
    "## 输入数据，构成数据框\n",
    "cl<-data.frame(\n",
    "   X=c(rep(2*4:21, c(2, 4, 4, 3, 3, 2, 3, 3, 3, 3, 2, \n",
    "       3, 2, 1, 2, 2, 1, 1))),\n",
    "   Y=c(0.49, 0.49, 0.48, 0.47, 0.48, 0.47, 0.46, 0.46, \n",
    "       0.45, 0.43, 0.45, 0.43, 0.43, 0.44, 0.43, 0.43, \n",
    "       0.46, 0.45, 0.42, 0.42, 0.43, 0.41, 0.41, 0.40, \n",
    "       0.42, 0.40, 0.40, 0.41, 0.40, 0.41, 0.41, 0.40, \n",
    "       0.40, 0.40, 0.38, 0.41, 0.40, 0.40, 0.41, 0.38, \n",
    "       0.40, 0.40, 0.39, 0.39)\n",
    ")\n",
    "\n",
    "## 作非线性拟合，并输出各参数的估计值\n",
    "nls.sol<-nls(Y~a+(0.49-a)*exp(-b*(X-8)), data=cl,\n",
    "             start = list( a= 0.1, b = 0.01 ))\n",
    "summary(nls.sol)"
   ]
  },
  {
   "cell_type": "code",
   "execution_count": null,
   "metadata": {
    "ExecuteTime": {
     "start_time": "2023-08-21T12:38:19.501169Z"
    }
   },
   "outputs": [],
   "source": [
    "## 画出拟合曲线和散点图\n",
    "xfit<-seq(8,44,len=200)\n",
    "yfit<-predict(nls.sol, data.frame(X=xfit))\n",
    "plot(cl$X, cl$Y)\n",
    "lines(xfit,yfit)\n",
    "\n",
    "## 计算偏导数和相应的Jacobi矩阵\n",
    "fn<-function(a, b, X){\n",
    "   f1 <- 1-exp(-b*(X-8))\n",
    "   f2 <- -(0.49-a)*(X-8)*exp(-b*(X-8))\n",
    "   cbind(f1,f2)\n",
    "}\n",
    "D<-fn(nls.sum$parameters[1,1], nls.sum$parameters[2,1], cl$X)\n",
    "\n",
    "## 作theta的方差估计\n",
    "theta.var<-nls.sum$sigma^2*solve(t(D)%*%D); theta.var"
   ]
  },
  {
   "cell_type": "markdown",
   "metadata": {},
   "source": [
    "#### 3.回归样条"
   ]
  },
  {
   "cell_type": "code",
   "execution_count": null,
   "metadata": {
    "ExecuteTime": {
     "start_time": "2023-08-21T12:38:19.504168900Z"
    }
   },
   "outputs": [],
   "source": [
    "library(ISLR)\n",
    "#data(\"Wage\")\n",
    "attach(Wage)"
   ]
  },
  {
   "cell_type": "code",
   "execution_count": null,
   "metadata": {
    "ExecuteTime": {
     "start_time": "2023-08-21T12:38:19.506155200Z"
    }
   },
   "outputs": [],
   "source": [
    "library(splines)\n",
    "agelims=range(age)\n",
    "age.grid=seq(from=agelims[1],to=agelims[2])\n",
    "#fit=lm(wage~bs(age,knots=c(25,40,60)),data=Wage)\n",
    "fit=lm(wage~splines::bs(age,knots=c(25,40,60)),data=Wage)\n",
    "summary(fit)\n",
    "pred=predict(fit,newdata=list(age=age.grid),se=T)\n",
    "plot(age,wage,col=\"gray\")\n",
    "lines(age.grid,pred$fit,lwd=2)\n",
    "lines(age.grid,pred$fit+2*pred$se,col='red',lty=\"dashed\")\n",
    "lines(age.grid,pred$fit-2*pred$se,col='red',lty=\"dashed\")"
   ]
  },
  {
   "cell_type": "code",
   "execution_count": null,
   "metadata": {
    "ExecuteTime": {
     "start_time": "2023-08-21T12:38:19.508149Z"
    }
   },
   "outputs": [],
   "source": [
    "library(splines)\n",
    "agelims=range(age)\n",
    "age.grid=seq(from=agelims[1],to=agelims[2])\n",
    "#fit=lm(wage~splines::ns(age,knots=c(25,40,60)),data=Wage)\n",
    "fit=lm(wage~splines::ns(age,df=5),data=Wage)\n",
    "summary(fit)\n",
    "pred=predict(fit,newdata=list(age=age.grid),se=T)\n",
    "par(pin = c(6,4))\n",
    "plot(age,wage,col=\"gray\")\n",
    "lines(age.grid,pred$fit,lwd=3)\n",
    "lines(age.grid,pred$fit+2*pred$se,col='red',lty=\"dashed\",lwd=3)\n",
    "lines(age.grid,pred$fit-2*pred$se,col='red',lty=\"dashed\",lwd=3)"
   ]
  },
  {
   "cell_type": "markdown",
   "metadata": {},
   "source": [
    "- ##### BSplines回归样条和Statsmodels对比"
   ]
  },
  {
   "cell_type": "code",
   "execution_count": null,
   "metadata": {
    "ExecuteTime": {
     "start_time": "2023-08-21T12:38:19.511142600Z"
    }
   },
   "outputs": [],
   "source": [
    "library(splines)\n",
    "fit.bs=lm(wage~splines::bs(year,df=4,degree=3)+\n",
    "          splines::bs(age,df=5,degree=3)+education,data=Wage)\n",
    "summary(fit.bs)\n",
    "agelims=range(age)\n",
    "age.grid=seq(from=agelims[1],to=agelims[2])\n",
    "plot(age,wage,xlim=agelims,cex=.5,col=\"darkgrey\")\n",
    "fit=smooth.spline(age,wage,df=5)\n",
    "fit2=smooth.spline(age,wage,cv=TRUE)\n",
    "lines(fit,col=\"red\",lwd=2)\n",
    "lines(fit2,col=\"blue\",lwd=2)"
   ]
  },
  {
   "cell_type": "markdown",
   "metadata": {},
   "source": [
    "\n"
   ]
  }
 ],
 "metadata": {
  "kernelspec": {
   "name": "python3",
   "language": "python",
   "display_name": "Python 3 (ipykernel)"
  },
  "language_info": {
   "codemirror_mode": "r",
   "file_extension": ".r",
   "mimetype": "text/x-r-source",
   "name": "R",
   "pygments_lexer": "r",
   "version": "4.0.3"
  }
 },
 "nbformat": 4,
 "nbformat_minor": 2
}
